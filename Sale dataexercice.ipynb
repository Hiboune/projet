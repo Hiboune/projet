{
 "cells": [
  {
   "cell_type": "code",
   "execution_count": null,
   "id": "initial_id",
   "metadata": {
    "collapsed": true,
    "is_executing": true
   },
   "outputs": [],
   "source": [
    "import numpy as np\n",
    "import matplotlib.pyplot as plt\n",
    "import pandas as pd"
   ]
  },
  {
   "cell_type": "code",
   "execution_count": null,
   "outputs": [],
   "source": [
    "data = pd.read_csv('it_sales_data.csv')"
   ],
   "metadata": {
    "collapsed": false
   },
   "id": "ec0e930bf63babc0"
  },
  {
   "cell_type": "code",
   "execution_count": null,
   "outputs": [],
   "source": [
    "data['Date'] = pd.to_datetime(data['Date'],errors='coerce')"
   ],
   "metadata": {
    "collapsed": false
   },
   "id": "5437789c28136844"
  },
  {
   "cell_type": "code",
   "execution_count": null,
   "outputs": [],
   "source": [
    "data.isnull().sum()"
   ],
   "metadata": {
    "collapsed": false
   },
   "id": "2f2dbfd867b89f7a"
  },
  {
   "cell_type": "code",
   "execution_count": null,
   "outputs": [],
   "source": [
    "data.loc[data['Sales'].isnull(),:]"
   ],
   "metadata": {
    "collapsed": false
   },
   "id": "2032af485130326d"
  },
  {
   "cell_type": "code",
   "execution_count": null,
   "outputs": [],
   "source": [
    "for i in data.columns.tolist():\n",
    "    if i in ['Sales', 'Ratings']:\n",
    "        data[i].fillna(data[i].median(), inplace=True)\n",
    "    elif i == 'Temperature':\n",
    "        data[i].fillna(data[i].mean(), inplace=True)\n",
    "    else:\n",
    "        pass"
   ],
   "metadata": {
    "collapsed": false,
    "is_executing": true
   },
   "id": "7beac7c28c10ce98"
  },
  {
   "cell_type": "code",
   "execution_count": null,
   "outputs": [],
   "source": [
    "data.loc[data['Sales'] <0, 'Sales']= data['Sales'].median()"
   ],
   "metadata": {
    "collapsed": false
   },
   "id": "6c3fa30b1173ef1e"
  },
  {
   "cell_type": "code",
   "execution_count": null,
   "outputs": [],
   "source": [
    "data.loc[data['Ratings']>5,:] #Verification des notes "
   ],
   "metadata": {
    "collapsed": false
   },
   "id": "5126032b6501357b"
  },
  {
   "cell_type": "code",
   "execution_count": null,
   "outputs": [],
   "source": [
    "vente_produit = data.groupby('Product')['Sales'].sum()\n",
    "vente_produit.sort_values(ascending=False, inplace=True)  #Souris 683.5 Clavier mécanique: 201"
   ],
   "metadata": {
    "collapsed": false,
    "is_executing": true
   },
   "id": "27dcafcdf46676f0"
  },
  {
   "cell_type": "code",
   "execution_count": null,
   "outputs": [],
   "source": [
    "mediane_Temp = data['Temperature'].mean()\n",
    "data['Jours'] = np.where(data['Temperature'] < mediane_Temp, 'Froid', 'Chaud')\n",
    "vente_temperature = data.groupby('Jours')['Sales'].sum()  #pas de corelation Chaud: 1295 Froid: 1106"
   ],
   "metadata": {
    "collapsed": false
   },
   "id": "74aa7932af42d2b2"
  },
  {
   "cell_type": "code",
   "execution_count": null,
   "outputs": [],
   "source": [
    "print(data['Sales'].corr(data['Ratings']))  #-0.106"
   ],
   "metadata": {
    "collapsed": false
   },
   "id": "54ee0656bd981e07"
  },
  {
   "cell_type": "code",
   "execution_count": null,
   "outputs": [],
   "source": [
    "plt.hist(data['Sales'])\n",
    "plt.title('Distribution des montants de vente à travers l année')\n",
    "plt.xlabel('Montant des Ventes')\n",
    "plt.ylabel('Fréquence')\n",
    "plt.show()"
   ],
   "metadata": {
    "collapsed": false
   },
   "id": "8c615da6741f3f5d"
  },
  {
   "cell_type": "code",
   "execution_count": null,
   "outputs": [],
   "source": [
    "vente_produit = vente_produit.reset_index()\n",
    "plt.bar(x= vente_produit['Product'], height= vente_produit['Sales'])\n",
    "plt.xticks(ticks= vente_produit['Product'], labels=['Souris','Écran','Disque Dur', 'Ordinateur','Clavier'])\n",
    "plt.title('Nombres de vente par produit')\n",
    "plt.xlabel('Produit')\n",
    "plt.ylabel('Nombre de ventes')\n",
    "plt.show()"
   ],
   "metadata": {
    "collapsed": false
   },
   "id": "2c080e4f19cc634a"
  },
  {
   "cell_type": "code",
   "execution_count": null,
   "outputs": [],
   "source": [
    "plt.scatter(x= data['Temperature'], y=data['Sales'], s=5, c='green')\n",
    "plt.title('Nombre de ventes en fonction de la temperature')\n",
    "plt.xlabel('Temperature')\n",
    "plt.ylabel('Nombres de vente')\n",
    "plt.show()"
   ],
   "metadata": {
    "collapsed": false
   },
   "id": "5a45d13bff2f004a"
  }
 ],
 "metadata": {
  "kernelspec": {
   "display_name": "Python 3",
   "language": "python",
   "name": "python3"
  },
  "language_info": {
   "codemirror_mode": {
    "name": "ipython",
    "version": 2
   },
   "file_extension": ".py",
   "mimetype": "text/x-python",
   "name": "python",
   "nbconvert_exporter": "python",
   "pygments_lexer": "ipython2",
   "version": "2.7.6"
  }
 },
 "nbformat": 4,
 "nbformat_minor": 5
}
